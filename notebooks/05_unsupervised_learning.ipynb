{
  "nbformat": 4,
  "nbformat_minor": 0,
  "metadata": {
    "colab": {
      "provenance": []
    },
    "kernelspec": {
      "name": "python3",
      "display_name": "Python 3"
    },
    "language_info": {
      "name": "python"
    }
  },
  "cells": [
    {
      "cell_type": "code",
      "execution_count": 56,
      "metadata": {
        "id": "gF6TwJ7tGRRT"
      },
      "outputs": [],
      "source": [
        "import numpy as np\n",
        "import pandas as pd\n",
        "import matplotlib.pyplot as plt\n",
        "import seaborn as sns\n",
        "\n",
        "from sklearn.cluster import DBSCAN,KMeans\n",
        "from sklearn.metrics import adjusted_rand_score, normalized_mutual_info_score, silhouette_score\n",
        "\n",
        "import warnings\n",
        "warnings.filterwarnings('ignore')\n"
      ]
    },
    {
      "cell_type": "code",
      "source": [
        "X_train = pd.read_csv('X_train_PCA.csv')\n",
        "y_train = pd.read_csv('y_train.csv')\n",
        "X_test = pd.read_csv('X_test_PCA.csv')\n",
        "y_test = pd.read_csv('y_test.csv')\n",
        "y_test_flat = y_test.values.ravel()\n"
      ],
      "metadata": {
        "id": "J2CYBLdoHouc"
      },
      "execution_count": 57,
      "outputs": []
    },
    {
      "cell_type": "code",
      "source": [
        "kmeans = KMeans(n_clusters=2, random_state=42)\n",
        "kmeans_labels = kmeans.fit_predict(X_test)\n",
        "ari_kmeans = adjusted_rand_score(y_test_flat, kmeans_labels)\n",
        "nmi_kmeans = normalized_mutual_info_score(y_test_flat, kmeans_labels)\n",
        "sil_kmeans = silhouette_score(X_test, kmeans_labels)\n"
      ],
      "metadata": {
        "id": "rJ14vS_THoyU"
      },
      "execution_count": 58,
      "outputs": []
    },
    {
      "cell_type": "code",
      "source": [
        "print(\"K-Means:\")\n",
        "print(\"ARI:\", ari_kmeans)\n",
        "print(\"NMI:\", nmi_kmeans)\n",
        "print(\"Silhouette Score:\", sil_kmeans)\n",
        "print(\"\\n\")"
      ],
      "metadata": {
        "colab": {
          "base_uri": "https://localhost:8080/"
        },
        "id": "4rWqcTHhHo2r",
        "outputId": "1aa65b2a-927b-4de1-cf22-073e7cb92d97"
      },
      "execution_count": 59,
      "outputs": [
        {
          "output_type": "stream",
          "name": "stdout",
          "text": [
            "K-Means:\n",
            "ARI: 0.32833118176560955\n",
            "NMI: 0.27126229395159673\n",
            "Silhouette Score: 0.20425056180490814\n",
            "\n",
            "\n"
          ]
        }
      ]
    },
    {
      "cell_type": "code",
      "source": [
        "dbscan = DBSCAN(eps=1.0, min_samples=3)\n",
        "dbscan_labels = dbscan.fit_predict(X_test)"
      ],
      "metadata": {
        "id": "1kW4Q3BUHo4k"
      },
      "execution_count": 60,
      "outputs": []
    },
    {
      "cell_type": "code",
      "source": [
        "ari_dbscan = adjusted_rand_score(y_test_flat, dbscan_labels)\n",
        "nmi_dbscan = normalized_mutual_info_score(y_test_flat, dbscan_labels)\n",
        "\n",
        "sil_dbscan = silhouette_score(X_test, dbscan_labels) if len(set(dbscan_labels)) > 1 else None"
      ],
      "metadata": {
        "id": "u5-xtH-jI9fc"
      },
      "execution_count": 61,
      "outputs": []
    },
    {
      "cell_type": "code",
      "source": [
        "print(\"DBSCAN:\")\n",
        "print(\"ARI:\", ari_dbscan)\n",
        "print(\"NMI:\", nmi_dbscan)\n",
        "print(\"Silhouette Score:\", sil_dbscan)\n",
        "print(\"\\n\")"
      ],
      "metadata": {
        "colab": {
          "base_uri": "https://localhost:8080/"
        },
        "id": "daxemvzUI9hM",
        "outputId": "e35ac42f-cbd6-4801-e607-f38c73c054b6"
      },
      "execution_count": 62,
      "outputs": [
        {
          "output_type": "stream",
          "name": "stdout",
          "text": [
            "DBSCAN:\n",
            "ARI: 0.07772995799419784\n",
            "NMI: 0.11128947965325182\n",
            "Silhouette Score: -0.15535881823212877\n",
            "\n",
            "\n"
          ]
        }
      ]
    },
    {
      "cell_type": "code",
      "source": [],
      "metadata": {
        "id": "Ap3yd2YQI9i7"
      },
      "execution_count": 62,
      "outputs": []
    }
  ]
}